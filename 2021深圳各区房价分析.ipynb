{
 "cells": [
  {
   "cell_type": "code",
   "execution_count": 375,
   "id": "saved-sequence",
   "metadata": {},
   "outputs": [],
   "source": [
    "import pandas as pd\n",
    "import numpy as np\n",
    "import seaborn as sns\n",
    "import matplotlib.pyplot as plt\n",
    "plt.rcParams['font.sans-serif'] = ['SimHei']\n",
    "plt.rcParams['axes.unicode_minus'] = False\n",
    "from pyecharts.charts import Map\n",
    "from pyecharts import options as opts\n",
    "from pyecharts.charts import Bar, Pie, Scatter, HeatMap\n",
    "\n",
    "import warnings\n",
    "warnings.filterwarnings('ignore')"
   ]
  },
  {
   "cell_type": "code",
   "execution_count": 376,
   "id": "coated-display",
   "metadata": {
    "scrolled": false
   },
   "outputs": [
    {
     "data": {
      "text/html": [
       "<div>\n",
       "<style scoped>\n",
       "    .dataframe tbody tr th:only-of-type {\n",
       "        vertical-align: middle;\n",
       "    }\n",
       "\n",
       "    .dataframe tbody tr th {\n",
       "        vertical-align: top;\n",
       "    }\n",
       "\n",
       "    .dataframe thead th {\n",
       "        text-align: right;\n",
       "    }\n",
       "</style>\n",
       "<table border=\"1\" class=\"dataframe\">\n",
       "  <thead>\n",
       "    <tr style=\"text-align: right;\">\n",
       "      <th></th>\n",
       "      <th>Unnamed: 0</th>\n",
       "      <th>district</th>\n",
       "      <th>roomnum</th>\n",
       "      <th>hall</th>\n",
       "      <th>AREA</th>\n",
       "      <th>C_floor</th>\n",
       "      <th>floor_num</th>\n",
       "      <th>school</th>\n",
       "      <th>subway</th>\n",
       "      <th>per_price</th>\n",
       "    </tr>\n",
       "  </thead>\n",
       "  <tbody>\n",
       "    <tr>\n",
       "      <th>0</th>\n",
       "      <td>228757275</td>\n",
       "      <td>baoan</td>\n",
       "      <td>3</td>\n",
       "      <td>2</td>\n",
       "      <td>89.30</td>\n",
       "      <td>middle</td>\n",
       "      <td>31</td>\n",
       "      <td>0</td>\n",
       "      <td>0</td>\n",
       "      <td>7.0773</td>\n",
       "    </tr>\n",
       "    <tr>\n",
       "      <th>1</th>\n",
       "      <td>228757221</td>\n",
       "      <td>baoan</td>\n",
       "      <td>4</td>\n",
       "      <td>2</td>\n",
       "      <td>127.00</td>\n",
       "      <td>high</td>\n",
       "      <td>31</td>\n",
       "      <td>0</td>\n",
       "      <td>0</td>\n",
       "      <td>6.9291</td>\n",
       "    </tr>\n",
       "    <tr>\n",
       "      <th>2</th>\n",
       "      <td>228267986</td>\n",
       "      <td>baoan</td>\n",
       "      <td>1</td>\n",
       "      <td>1</td>\n",
       "      <td>28.00</td>\n",
       "      <td>low</td>\n",
       "      <td>39</td>\n",
       "      <td>0</td>\n",
       "      <td>0</td>\n",
       "      <td>3.9286</td>\n",
       "    </tr>\n",
       "    <tr>\n",
       "      <th>3</th>\n",
       "      <td>228879860</td>\n",
       "      <td>baoan</td>\n",
       "      <td>1</td>\n",
       "      <td>1</td>\n",
       "      <td>28.00</td>\n",
       "      <td>middle</td>\n",
       "      <td>30</td>\n",
       "      <td>0</td>\n",
       "      <td>0</td>\n",
       "      <td>3.3568</td>\n",
       "    </tr>\n",
       "    <tr>\n",
       "      <th>4</th>\n",
       "      <td>228521057</td>\n",
       "      <td>baoan</td>\n",
       "      <td>2</td>\n",
       "      <td>2</td>\n",
       "      <td>78.00</td>\n",
       "      <td>middle</td>\n",
       "      <td>8</td>\n",
       "      <td>1</td>\n",
       "      <td>1</td>\n",
       "      <td>5.0769</td>\n",
       "    </tr>\n",
       "    <tr>\n",
       "      <th>...</th>\n",
       "      <td>...</td>\n",
       "      <td>...</td>\n",
       "      <td>...</td>\n",
       "      <td>...</td>\n",
       "      <td>...</td>\n",
       "      <td>...</td>\n",
       "      <td>...</td>\n",
       "      <td>...</td>\n",
       "      <td>...</td>\n",
       "      <td>...</td>\n",
       "    </tr>\n",
       "    <tr>\n",
       "      <th>18509</th>\n",
       "      <td>228604127</td>\n",
       "      <td>yantian</td>\n",
       "      <td>1</td>\n",
       "      <td>0</td>\n",
       "      <td>29.90</td>\n",
       "      <td>middle</td>\n",
       "      <td>10</td>\n",
       "      <td>1</td>\n",
       "      <td>0</td>\n",
       "      <td>3.8796</td>\n",
       "    </tr>\n",
       "    <tr>\n",
       "      <th>18510</th>\n",
       "      <td>227865185</td>\n",
       "      <td>yantian</td>\n",
       "      <td>1</td>\n",
       "      <td>0</td>\n",
       "      <td>29.89</td>\n",
       "      <td>middle</td>\n",
       "      <td>8</td>\n",
       "      <td>1</td>\n",
       "      <td>0</td>\n",
       "      <td>4.0147</td>\n",
       "    </tr>\n",
       "    <tr>\n",
       "      <th>18511</th>\n",
       "      <td>227990827</td>\n",
       "      <td>yantian</td>\n",
       "      <td>1</td>\n",
       "      <td>0</td>\n",
       "      <td>28.86</td>\n",
       "      <td>high</td>\n",
       "      <td>8</td>\n",
       "      <td>0</td>\n",
       "      <td>0</td>\n",
       "      <td>5.0243</td>\n",
       "    </tr>\n",
       "    <tr>\n",
       "      <th>18512</th>\n",
       "      <td>226997909</td>\n",
       "      <td>yantian</td>\n",
       "      <td>1</td>\n",
       "      <td>1</td>\n",
       "      <td>26.29</td>\n",
       "      <td>high</td>\n",
       "      <td>18</td>\n",
       "      <td>1</td>\n",
       "      <td>0</td>\n",
       "      <td>4.9068</td>\n",
       "    </tr>\n",
       "    <tr>\n",
       "      <th>18513</th>\n",
       "      <td>226378735</td>\n",
       "      <td>yantian</td>\n",
       "      <td>1</td>\n",
       "      <td>0</td>\n",
       "      <td>18.86</td>\n",
       "      <td>low</td>\n",
       "      <td>18</td>\n",
       "      <td>0</td>\n",
       "      <td>0</td>\n",
       "      <td>4.2948</td>\n",
       "    </tr>\n",
       "  </tbody>\n",
       "</table>\n",
       "<p>18514 rows × 10 columns</p>\n",
       "</div>"
      ],
      "text/plain": [
       "       Unnamed: 0 district  roomnum  hall    AREA C_floor  floor_num  school  \\\n",
       "0       228757275    baoan        3     2   89.30  middle         31       0   \n",
       "1       228757221    baoan        4     2  127.00    high         31       0   \n",
       "2       228267986    baoan        1     1   28.00     low         39       0   \n",
       "3       228879860    baoan        1     1   28.00  middle         30       0   \n",
       "4       228521057    baoan        2     2   78.00  middle          8       1   \n",
       "...           ...      ...      ...   ...     ...     ...        ...     ...   \n",
       "18509   228604127  yantian        1     0   29.90  middle         10       1   \n",
       "18510   227865185  yantian        1     0   29.89  middle          8       1   \n",
       "18511   227990827  yantian        1     0   28.86    high          8       0   \n",
       "18512   226997909  yantian        1     1   26.29    high         18       1   \n",
       "18513   226378735  yantian        1     0   18.86     low         18       0   \n",
       "\n",
       "       subway  per_price  \n",
       "0           0     7.0773  \n",
       "1           0     6.9291  \n",
       "2           0     3.9286  \n",
       "3           0     3.3568  \n",
       "4           1     5.0769  \n",
       "...       ...        ...  \n",
       "18509       0     3.8796  \n",
       "18510       0     4.0147  \n",
       "18511       0     5.0243  \n",
       "18512       0     4.9068  \n",
       "18513       0     4.2948  \n",
       "\n",
       "[18514 rows x 10 columns]"
      ]
     },
     "execution_count": 376,
     "metadata": {},
     "output_type": "execute_result"
    }
   ],
   "source": [
    "df =pd.read_csv('szfj-price.csv')\n",
    "df"
   ]
  },
  {
   "cell_type": "code",
   "execution_count": 377,
   "id": "burning-performer",
   "metadata": {},
   "outputs": [
    {
     "name": "stdout",
     "output_type": "stream",
     "text": [
      "数据集中的样本量共有18514个\n",
      "----------------------------------------------------------------------------------------------------\n",
      "0        False\n",
      "1        False\n",
      "2        False\n",
      "3        False\n",
      "4        False\n",
      "         ...  \n",
      "18509    False\n",
      "18510    False\n",
      "18511    False\n",
      "18512    False\n",
      "18513    False\n",
      "Length: 18514, dtype: bool\n",
      "----------------------------------------------------------------------------------------------------\n",
      "   Unnamed: 0 district  roomnum  hall   AREA C_floor  floor_num  school  \\\n",
      "0   228757275    baoan        3     2   89.3  middle         31       0   \n",
      "1   228757221    baoan        4     2  127.0    high         31       0   \n",
      "2   228267986    baoan        1     1   28.0     low         39       0   \n",
      "3   228879860    baoan        1     1   28.0  middle         30       0   \n",
      "4   228521057    baoan        2     2   78.0  middle          8       1   \n",
      "\n",
      "   subway  per_price  \n",
      "0       0     7.0773  \n",
      "1       0     6.9291  \n",
      "2       0     3.9286  \n",
      "3       0     3.3568  \n",
      "4       1     5.0769  \n",
      "----------------------------------------------------------------------------------------------------\n",
      "              count unique     top  freq              mean             std  \\\n",
      "Unnamed: 0  18514.0    NaN     NaN   NaN  228090023.293346  3031648.458419   \n",
      "district      18514     10   luohu  3299               NaN             NaN   \n",
      "roomnum     18514.0    NaN     NaN   NaN          2.873339        1.040839   \n",
      "hall        18514.0    NaN     NaN   NaN          1.812844        0.484765   \n",
      "AREA        18514.0    NaN     NaN   NaN         95.224924        48.57013   \n",
      "C_floor       18514      3  middle  7512               NaN             NaN   \n",
      "floor_num   18514.0    NaN     NaN   NaN         27.482338       10.083653   \n",
      "school      18514.0    NaN     NaN   NaN          0.587447        0.492307   \n",
      "subway      18514.0    NaN     NaN   NaN          0.504159        0.499996   \n",
      "per_price   18514.0    NaN     NaN   NaN          6.118192        3.050218   \n",
      "\n",
      "                  min          25%          50%           75%          max  \n",
      "Unnamed: 0  4217338.0  227695676.5  228461949.5  228830687.25  228996498.0  \n",
      "district          NaN          NaN          NaN           NaN          NaN  \n",
      "roomnum           1.0          2.0          3.0           3.0          9.0  \n",
      "hall              0.0          2.0          2.0           2.0          6.0  \n",
      "AREA             15.0         70.8         88.0      103.6875        697.2  \n",
      "C_floor           NaN          NaN          NaN           NaN          NaN  \n",
      "floor_num         1.0         23.0         30.0          33.0         90.0  \n",
      "school            0.0          0.0          1.0           1.0          1.0  \n",
      "subway            0.0          0.0          1.0           1.0          1.0  \n",
      "per_price      1.0101       4.0526       5.2463        7.3574      26.3968  \n",
      "----------------------------------------------------------------------------------------------------\n"
     ]
    },
    {
     "data": {
      "text/plain": [
       "'\\n数据无缺失、无重复\\n'"
      ]
     },
     "execution_count": 377,
     "metadata": {},
     "output_type": "execute_result"
    }
   ],
   "source": [
    "# 2.查看数据情况\n",
    "\n",
    "\n",
    "# # 1) 数据总体情况\n",
    "print('数据集中的样本量共有%d个' % df.shape[0])    # 查看数据量（行数）\n",
    "print('-'*100)\n",
    "print(df.duplicated())   # 判断是否有重复项\n",
    "print('-'*100)\n",
    "print(df.head())    # 查看前五行\n",
    "print('-'*100)\n",
    "print(df.describe(include='all').T)     # 查看描述基本信息\n",
    "print('-'*100)\n",
    "'''\n",
    "数据无缺失、无重复\n",
    "'''"
   ]
  },
  {
   "cell_type": "code",
   "execution_count": 378,
   "id": "typical-chair",
   "metadata": {},
   "outputs": [
    {
     "data": {
      "text/html": [
       "<div>\n",
       "<style scoped>\n",
       "    .dataframe tbody tr th:only-of-type {\n",
       "        vertical-align: middle;\n",
       "    }\n",
       "\n",
       "    .dataframe tbody tr th {\n",
       "        vertical-align: top;\n",
       "    }\n",
       "\n",
       "    .dataframe thead th {\n",
       "        text-align: right;\n",
       "    }\n",
       "</style>\n",
       "<table border=\"1\" class=\"dataframe\">\n",
       "  <thead>\n",
       "    <tr style=\"text-align: right;\">\n",
       "      <th></th>\n",
       "      <th>district</th>\n",
       "      <th>roomnum</th>\n",
       "      <th>hall</th>\n",
       "      <th>AREA</th>\n",
       "      <th>C_floor</th>\n",
       "      <th>school</th>\n",
       "      <th>subway</th>\n",
       "      <th>per_price</th>\n",
       "    </tr>\n",
       "  </thead>\n",
       "  <tbody>\n",
       "    <tr>\n",
       "      <th>0</th>\n",
       "      <td>baoan</td>\n",
       "      <td>3</td>\n",
       "      <td>2</td>\n",
       "      <td>89.30</td>\n",
       "      <td>middle</td>\n",
       "      <td>0</td>\n",
       "      <td>0</td>\n",
       "      <td>7.0773</td>\n",
       "    </tr>\n",
       "    <tr>\n",
       "      <th>1</th>\n",
       "      <td>baoan</td>\n",
       "      <td>4</td>\n",
       "      <td>2</td>\n",
       "      <td>127.00</td>\n",
       "      <td>high</td>\n",
       "      <td>0</td>\n",
       "      <td>0</td>\n",
       "      <td>6.9291</td>\n",
       "    </tr>\n",
       "    <tr>\n",
       "      <th>2</th>\n",
       "      <td>baoan</td>\n",
       "      <td>1</td>\n",
       "      <td>1</td>\n",
       "      <td>28.00</td>\n",
       "      <td>low</td>\n",
       "      <td>0</td>\n",
       "      <td>0</td>\n",
       "      <td>3.9286</td>\n",
       "    </tr>\n",
       "    <tr>\n",
       "      <th>3</th>\n",
       "      <td>baoan</td>\n",
       "      <td>1</td>\n",
       "      <td>1</td>\n",
       "      <td>28.00</td>\n",
       "      <td>middle</td>\n",
       "      <td>0</td>\n",
       "      <td>0</td>\n",
       "      <td>3.3568</td>\n",
       "    </tr>\n",
       "    <tr>\n",
       "      <th>4</th>\n",
       "      <td>baoan</td>\n",
       "      <td>2</td>\n",
       "      <td>2</td>\n",
       "      <td>78.00</td>\n",
       "      <td>middle</td>\n",
       "      <td>1</td>\n",
       "      <td>1</td>\n",
       "      <td>5.0769</td>\n",
       "    </tr>\n",
       "    <tr>\n",
       "      <th>...</th>\n",
       "      <td>...</td>\n",
       "      <td>...</td>\n",
       "      <td>...</td>\n",
       "      <td>...</td>\n",
       "      <td>...</td>\n",
       "      <td>...</td>\n",
       "      <td>...</td>\n",
       "      <td>...</td>\n",
       "    </tr>\n",
       "    <tr>\n",
       "      <th>18509</th>\n",
       "      <td>yantian</td>\n",
       "      <td>1</td>\n",
       "      <td>0</td>\n",
       "      <td>29.90</td>\n",
       "      <td>middle</td>\n",
       "      <td>1</td>\n",
       "      <td>0</td>\n",
       "      <td>3.8796</td>\n",
       "    </tr>\n",
       "    <tr>\n",
       "      <th>18510</th>\n",
       "      <td>yantian</td>\n",
       "      <td>1</td>\n",
       "      <td>0</td>\n",
       "      <td>29.89</td>\n",
       "      <td>middle</td>\n",
       "      <td>1</td>\n",
       "      <td>0</td>\n",
       "      <td>4.0147</td>\n",
       "    </tr>\n",
       "    <tr>\n",
       "      <th>18511</th>\n",
       "      <td>yantian</td>\n",
       "      <td>1</td>\n",
       "      <td>0</td>\n",
       "      <td>28.86</td>\n",
       "      <td>high</td>\n",
       "      <td>0</td>\n",
       "      <td>0</td>\n",
       "      <td>5.0243</td>\n",
       "    </tr>\n",
       "    <tr>\n",
       "      <th>18512</th>\n",
       "      <td>yantian</td>\n",
       "      <td>1</td>\n",
       "      <td>1</td>\n",
       "      <td>26.29</td>\n",
       "      <td>high</td>\n",
       "      <td>1</td>\n",
       "      <td>0</td>\n",
       "      <td>4.9068</td>\n",
       "    </tr>\n",
       "    <tr>\n",
       "      <th>18513</th>\n",
       "      <td>yantian</td>\n",
       "      <td>1</td>\n",
       "      <td>0</td>\n",
       "      <td>18.86</td>\n",
       "      <td>low</td>\n",
       "      <td>0</td>\n",
       "      <td>0</td>\n",
       "      <td>4.2948</td>\n",
       "    </tr>\n",
       "  </tbody>\n",
       "</table>\n",
       "<p>18514 rows × 8 columns</p>\n",
       "</div>"
      ],
      "text/plain": [
       "      district  roomnum  hall    AREA C_floor  school  subway  per_price\n",
       "0        baoan        3     2   89.30  middle       0       0     7.0773\n",
       "1        baoan        4     2  127.00    high       0       0     6.9291\n",
       "2        baoan        1     1   28.00     low       0       0     3.9286\n",
       "3        baoan        1     1   28.00  middle       0       0     3.3568\n",
       "4        baoan        2     2   78.00  middle       1       1     5.0769\n",
       "...        ...      ...   ...     ...     ...     ...     ...        ...\n",
       "18509  yantian        1     0   29.90  middle       1       0     3.8796\n",
       "18510  yantian        1     0   29.89  middle       1       0     4.0147\n",
       "18511  yantian        1     0   28.86    high       0       0     5.0243\n",
       "18512  yantian        1     1   26.29    high       1       0     4.9068\n",
       "18513  yantian        1     0   18.86     low       0       0     4.2948\n",
       "\n",
       "[18514 rows x 8 columns]"
      ]
     },
     "execution_count": 378,
     "metadata": {},
     "output_type": "execute_result"
    }
   ],
   "source": [
    "del df['Unnamed: 0']   # 删去之后不用的行\n",
    "del df['floor_num']\n",
    "df"
   ]
  },
  {
   "cell_type": "code",
   "execution_count": 379,
   "id": "recorded-engineer",
   "metadata": {},
   "outputs": [
    {
     "name": "stdout",
     "output_type": "stream",
     "text": [
      "['district', 'roomnum', 'hall', 'AREA', 'C_floor', 'school', 'subway', 'per_price']\n",
      "查看分类变量的取值\n",
      "      district\n",
      "0        baoan\n",
      "1  dapengxinqu\n",
      "2       futian\n",
      "3    guangming\n",
      "4     longgang\n",
      "5      longhua\n",
      "6        luohu\n",
      "7      nanshan\n",
      "8     pingshan\n",
      "9      yantian\n",
      "------------\n",
      "   roomnum\n",
      "0        3\n",
      "1        4\n",
      "2        1\n",
      "3        2\n",
      "4        5\n",
      "5        7\n",
      "6        6\n",
      "7        8\n",
      "8        9\n",
      "------------\n",
      "   hall\n",
      "0     2\n",
      "1     1\n",
      "2     0\n",
      "3     3\n",
      "4     4\n",
      "5     5\n",
      "6     6\n",
      "------------\n",
      "  C_floor\n",
      "0  middle\n",
      "1    high\n",
      "2     low\n",
      "------------\n",
      "   school\n",
      "0       0\n",
      "1       1\n",
      "------------\n",
      "   subway\n",
      "0       0\n",
      "1       1\n",
      "------------\n",
      "====================================================================================================\n"
     ]
    }
   ],
   "source": [
    "# # 2) 查看分类变量的取值\n",
    "\n",
    "import sqlite3\n",
    "con = sqlite3.connect(':memory:')\n",
    "df.to_sql('df',con)\n",
    "print(list(df))\n",
    "print('查看分类变量的取值')\n",
    "for i in list(df[['district','roomnum','hall','C_floor','school','subway']]):\n",
    "    s = pd.read_sql_query('SELECT DISTINCT %s from df' % i,con)\n",
    "    print(s)\n",
    "    print('-'*12)\n",
    "print('='*100)  # 划分割线，方便查看"
   ]
  },
  {
   "cell_type": "code",
   "execution_count": 380,
   "id": "dirty-camera",
   "metadata": {},
   "outputs": [
    {
     "name": "stdout",
     "output_type": "stream",
     "text": [
      "  district  roomnum  hall   AREA C_floor  school  subway  per_price\n",
      "0       宝安        3     2   89.3  middle       0       0     7.0773\n",
      "1       宝安        4     2  127.0    high       0       0     6.9291\n",
      "2       宝安        1     1   28.0     low       0       0     3.9286\n",
      "3       宝安        1     1   28.0  middle       0       0     3.3568\n",
      "4       宝安        2     2   78.0  middle       1       1     5.0769\n",
      "====================================================================================================\n"
     ]
    }
   ],
   "source": [
    "# # 3) 将城区名由中文改成拼音，方便之后作图时查看\n",
    "dist_dict = {'longgang':'龙岗','longhua':'龙华','baoan':'宝安','nanshan':'南山','futian':'福田','luohu':'罗湖','pingshan':'坪山','guangming':'光明','yantian':'盐田','dapengxinqu':'大鹏新区'}\n",
    "df['district'] = df['district'].apply(lambda x:dist_dict[x])\n",
    "print(df.head())\n",
    "print('='*100)  # 划分割线，方便查看"
   ]
  },
  {
   "cell_type": "code",
   "execution_count": 381,
   "id": "american-telescope",
   "metadata": {},
   "outputs": [
    {
     "name": "stdout",
     "output_type": "stream",
     "text": [
      "列名含义分析表 已生成\n",
      "====================================================================================================\n"
     ]
    }
   ],
   "source": [
    "# # 4) 生成一个excel表格用于分析列名含义\n",
    "table_columns = pd.DataFrame(columns=['表名','表说明','列名','列名含义','备注'])\n",
    "table_columns['列名'] = list(df)\n",
    "table_columns.to_excel( r'\\列名含义分析表（请另存）.xls')\n",
    "print('列名含义分析表 已生成')\n",
    "print('='*100)  # 划分割线，方便查看"
   ]
  },
  {
   "cell_type": "code",
   "execution_count": 382,
   "id": "indie-founder",
   "metadata": {},
   "outputs": [
    {
     "data": {
      "image/png": "[encoded data removed]",
      "text/plain": [
       "<Figure size 432x288 with 1 Axes>"
      ]
     },
     "metadata": {
      "needs_background": "light"
     },
     "output_type": "display_data"
    },
    {
     "data": {
      "text/plain": [
       "'\\n通过直方图可发现数据是偏态分布的（右偏 → 那么之后可能会取对数）\\n'"
      ]
     },
     "execution_count": 382,
     "metadata": {},
     "output_type": "execute_result"
    }
   ],
   "source": [
    "# --------------------------------【 目标拆解分析 】--------------------------------------\n",
    "\n",
    "# (二) 因变量分析\n",
    "\n",
    "# # 1. 单位面积房价分析\n",
    "\n",
    "# # # 设置负号显示及字体\n",
    "from matplotlib import pylab\n",
    "\n",
    "pylab.rcParams['font.sans-serif'] = ['SimHei']\n",
    "pylab.rcParams['axes.unicode_minus'] = False\n",
    "\n",
    "# # # 1) 作因变量直方图\n",
    "import matplotlib.pyplot as plt\n",
    "\n",
    "df.per_price.hist(grid=False,bins=20,color='lightblue')\n",
    "plt.title('单位面积房价频数图')\n",
    "plt.xlabel('单位面积房价（万元/平方米）')\n",
    "plt.ylabel('频数')\n",
    "plt.show()\n",
    "'''\n",
    "通过直方图可发现数据是偏态分布的（右偏 → 那么之后可能会取对数）\n",
    "'''"
   ]
  },
  {
   "cell_type": "code",
   "execution_count": 383,
   "id": "radical-regression",
   "metadata": {},
   "outputs": [
    {
     "name": "stdout",
     "output_type": "stream",
     "text": [
      "mean      6.118192\n",
      "median    5.246300\n",
      "std       3.050218\n",
      "Name: per_price, dtype: float64\n",
      "0.25    4.0526\n",
      "0.50    5.2463\n",
      "0.75    7.3574\n",
      "Name: per_price, dtype: float64\n",
      "====================================================================================================\n"
     ]
    },
    {
     "data": {
      "text/plain": [
       "'\\n价格的平均数mean： 6.118192\\n价格的中位数：5.246300\\n价格的标准差std：3.050218\\n四分位数情况：\\n    0.25    4.0526\\n    0.50    5.2463\\n    0.75    7.3574\\n'"
      ]
     },
     "execution_count": 383,
     "metadata": {},
     "output_type": "execute_result"
    }
   ],
   "source": [
    "# # # 2) 查看 均值、中位数、标准差、四分位数\n",
    "print(df.per_price.agg(['mean','median','std']))\n",
    "print(df.per_price.quantile([0.25,0.5,0.75]))\n",
    "print('='*100)\n",
    "'''\n",
    "价格的平均数mean： 6.118192\n",
    "价格的中位数：5.246300\n",
    "价格的标准差std：3.050218\n",
    "四分位数情况：\n",
    "    0.25    4.0526\n",
    "    0.50    5.2463\n",
    "    0.75    7.3574\n",
    "'''"
   ]
  },
  {
   "cell_type": "code",
   "execution_count": 384,
   "id": "destroyed-envelope",
   "metadata": {},
   "outputs": [
    {
     "name": "stdout",
     "output_type": "stream",
     "text": [
      "房价最大值为26.3968万元/㎡\n",
      "房价最小值为1.0101万元/㎡\n",
      "====================================================================================================\n"
     ]
    },
    {
     "data": {
      "text/plain": [
       "'\\n房价最大值为26.3968万元/㎡\\n房价最小值为1.0101万元/㎡\\n'"
      ]
     },
     "execution_count": 384,
     "metadata": {},
     "output_type": "execute_result"
    }
   ],
   "source": [
    "# # # 3) 查看房价的 最大值 和 最小值\n",
    "print('房价最大值为%s万元/㎡' % max(df.per_price))\n",
    "print('房价最小值为%s万元/㎡' % min(df.per_price))\n",
    "print('='*100)\n",
    "'''\n",
    "房价最大值为26.3968万元/㎡\n",
    "房价最小值为1.0101万元/㎡\n",
    "'''"
   ]
  },
  {
   "cell_type": "code",
   "execution_count": 385,
   "id": "divine-richmond",
   "metadata": {},
   "outputs": [
    {
     "name": "stdout",
     "output_type": "stream",
     "text": [
      "district :\n",
      "罗湖      3299\n",
      "坪山      2574\n",
      "南山      2403\n",
      "光明      2073\n",
      "龙华      1950\n",
      "盐田      1492\n",
      "龙岗      1472\n",
      "福田      1264\n",
      "宝安      1251\n",
      "大鹏新区     736\n",
      "Name: district, dtype: int64\n",
      "----------------------------------------------------------------------------------------------------\n",
      "roomnum :\n",
      "3    8320\n",
      "2    4524\n",
      "4    3037\n",
      "1    1624\n",
      "5     780\n",
      "6     139\n",
      "8      45\n",
      "7      41\n",
      "9       4\n",
      "Name: roomnum, dtype: int64\n",
      "----------------------------------------------------------------------------------------------------\n",
      "hall :\n",
      "2    14667\n",
      "1     3268\n",
      "0      287\n",
      "3      220\n",
      "4       64\n",
      "6        5\n",
      "5        3\n",
      "Name: hall, dtype: int64\n",
      "----------------------------------------------------------------------------------------------------\n",
      "C_floor :\n",
      "middle    7512\n",
      "high      5707\n",
      "low       5295\n",
      "Name: C_floor, dtype: int64\n",
      "----------------------------------------------------------------------------------------------------\n",
      "school :\n",
      "1    10876\n",
      "0     7638\n",
      "Name: school, dtype: int64\n",
      "----------------------------------------------------------------------------------------------------\n",
      "subway :\n",
      "1    9334\n",
      "0    9180\n",
      "Name: subway, dtype: int64\n",
      "----------------------------------------------------------------------------------------------------\n",
      "====================================================================================================\n"
     ]
    },
    {
     "data": {
      "text/plain": [
       "'\\ndist列中 每个区的样本量均在500以上;\\nroomnum列中 最多的类型是3房，6~9房的占比很少;\\nhalls列中 最普遍的是2个;\\nfloor列中 middle的数量多一些，high和low基本持平;\\nsubway列中 基本持平;\\nschool列中 学区房更多一些\\n'"
      ]
     },
     "execution_count": 385,
     "metadata": {},
     "output_type": "execute_result"
    }
   ],
   "source": [
    "# (三) 自变量\n",
    "\n",
    "# # 1. 整体来看\n",
    "# # # 1) 分类变量 看 各个取值 的 数量统计 情况\n",
    "for i in range(len(list(df))):\n",
    "    if i != list(df).index('AREA') and i != list(df).index('per_price'):\n",
    "        print(df.columns.values[i],':')\n",
    "        print(df[df.columns.values[i]].value_counts())\n",
    "        print('-'*100)\n",
    "    else:\n",
    "        continue\n",
    "print('='*100)\n",
    "'''\n",
    "dist列中 每个区的样本量均在500以上;\n",
    "roomnum列中 最多的类型是3房，6~9房的占比很少;\n",
    "halls列中 最普遍的是2个;\n",
    "floor列中 middle的数量多一些，high和low基本持平;\n",
    "subway列中 基本持平;\n",
    "school列中 学区房更多一些\n",
    "'''"
   ]
  },
  {
   "cell_type": "code",
   "execution_count": 386,
   "id": "native-colorado",
   "metadata": {},
   "outputs": [
    {
     "name": "stdout",
     "output_type": "stream",
     "text": [
      "AREA:\n",
      "min        15.000000\n",
      "mean       95.224924\n",
      "median     88.000000\n",
      "max       697.200000\n",
      "std        48.570130\n",
      "Name: AREA, dtype: float64\n",
      "====================================================================================================\n"
     ]
    },
    {
     "data": {
      "text/plain": [
       "'\\nAREA:\\nmin        15.000000\\nmean       95.224924\\nmedian     88.000000\\nmax       697.200000\\nstd        48.570130\\n数据情况相对还是比较正常的\\n'"
      ]
     },
     "execution_count": 386,
     "metadata": {},
     "output_type": "execute_result"
    }
   ],
   "source": [
    "# # # 2) 连续变量 看 最小、最大值、平均数、中位数、标准差\n",
    "print('AREA:')\n",
    "print(df.AREA.agg(['min','mean','median','max','std']).T)\n",
    "print('='*100)\n",
    "'''\n",
    "AREA:\n",
    "min        15.000000\n",
    "mean       95.224924\n",
    "median     88.000000\n",
    "max       697.200000\n",
    "std        48.570130\n",
    "数据情况相对还是比较正常的\n",
    "'''"
   ]
  },
  {
   "cell_type": "code",
   "execution_count": 387,
   "id": "equipped-truth",
   "metadata": {},
   "outputs": [
    {
     "data": {
      "image/png": "[encoded data removed]",
      "text/plain": [
       "<Figure size 432x288 with 1 Axes>"
      ]
     },
     "metadata": {},
     "output_type": "display_data"
    },
    {
     "name": "stdout",
     "output_type": "stream",
     "text": [
      "罗湖      3299\n",
      "坪山      2574\n",
      "南山      2403\n",
      "光明      2073\n",
      "龙华      1950\n",
      "盐田      1492\n",
      "龙岗      1472\n",
      "福田      1264\n",
      "宝安      1251\n",
      "大鹏新区     736\n",
      "Name: district, dtype: int64\n",
      "====================================================================================================\n"
     ]
    }
   ],
   "source": [
    "# # 2. 分开各个量 → district列\n",
    "\n",
    "# # # 各个区的房屋信息数量情况比较\n",
    "colors = ['#71ae46','#96b744','#c4cc38','#ebe12a','#eab026','#e3852b','#d85d2a','#ce2626','#ac2026','#71ae46']\n",
    "df.district.value_counts().sort_values().plot(kind='pie',autopct=\"%1.1f%%\",colors=colors)\n",
    "plt.title('各个区的房屋信息数量情况比较')\n",
    "plt.show()\n",
    "print(df.district.value_counts().sort_values(ascending=False))\n",
    "print('='*100)"
   ]
  },
  {
   "cell_type": "code",
   "execution_count": 388,
   "id": "accredited-stability",
   "metadata": {},
   "outputs": [
    {
     "data": {
      "image/png": "[encoded data removed]",
      "text/plain": [
       "<Figure size 432x288 with 1 Axes>"
      ]
     },
     "metadata": {
      "needs_background": "light"
     },
     "output_type": "display_data"
    }
   ],
   "source": [
    "# # # 各个区房价均值比较\n",
    "colors = ['#71ae46','#71ae46','#96b744','#c4cc38','#ebe12a','#eab026','#e3852b','#d85d2a','#ce2626','#ac2026']\n",
    "df.per_price.groupby(df.district).mean().sort_values().plot(kind='barh',color=colors)\n",
    "plt.xlabel('各个区房价均值(万元/平方米)')\n",
    "plt.ylabel('区名')\n",
    "plt.title('各个区的房价均值情况表')\n",
    "\n",
    "A = df.per_price.groupby(df.district).mean().sort_values()\n",
    "for i in range(len(list(df.district.value_counts()))): # 为图表加数字标签\n",
    "    plt.text(A[i],i,round(A[i],4),fontsize=10,verticalalignment=\"top\",horizontalalignment=\"right\")  # round(A[i],4)保留四位小数\n",
    "plt.show()"
   ]
  },
  {
   "cell_type": "code",
   "execution_count": 389,
   "id": "classical-adapter",
   "metadata": {},
   "outputs": [
    {
     "data": {
      "image/png": "[encoded data removed]",
      "text/plain": [
       "<Figure size 864x432 with 1 Axes>"
      ]
     },
     "metadata": {
      "needs_background": "light"
     },
     "output_type": "display_data"
    },
    {
     "data": {
      "text/plain": [
       "'\\n由盒须图可知，随着x值的不同，中心水平是有变化的，故可初步判断二者是有关系的\\n'"
      ]
     },
     "execution_count": 389,
     "metadata": {},
     "output_type": "execute_result"
    }
   ],
   "source": [
    "# # # 不同城区的单位面积房价（盒须图）\n",
    "import seaborn as sns\n",
    "df_temp1 = df[['district','per_price']].sort_values(by=['district'])\n",
    "df_temp1['district'] = df_temp1['district'].astype('category')  # 标签排序\n",
    "df_temp1['district'] = df_temp1['district'].cat.set_categories(['大鹏新区','坪山','龙岗','光明','盐田','龙华','罗湖','宝安','福田','南山'])\n",
    "plt.figure(figsize=(12,6))  # 设置画布大小\n",
    "sns.boxplot(x='district',y='per_price',data=df_temp1,linewidth=0.5,palette=sns.cubehelix_palette(16,start=2, rot=2, dark=0, light=.95))\n",
    "plt.ylabel('单位面积房价(万元/平方米)')\n",
    "plt.xlabel('城区')\n",
    "plt.title('不同城区的单位面积房价的分组箱线图')\n",
    "plt.show()\n",
    "'''\n",
    "由盒须图可知，随着x值的不同，中心水平是有变化的，故可初步判断二者是有关系的\n",
    "'''\n"
   ]
  },
  {
   "cell_type": "code",
   "execution_count": 390,
   "id": "legislative-confidentiality",
   "metadata": {},
   "outputs": [
    {
     "data": {
      "image/png": "[encoded data removed]",
      "text/plain": [
       "<Figure size 432x288 with 1 Axes>"
      ]
     },
     "metadata": {
      "needs_background": "light"
     },
     "output_type": "display_data"
    },
    {
     "data": {
      "image/png": "[encoded data removed]",
      "text/plain": [
       "<Figure size 864x432 with 1 Axes>"
      ]
     },
     "metadata": {
      "needs_background": "light"
     },
     "output_type": "display_data"
    }
   ],
   "source": [
    "# # 3. 分开各个量 → roomnum列\n",
    "\n",
    "# # # 不同卧室数的单位面积房价\n",
    "df.per_price.groupby(df.roomnum).mean().plot(kind='bar',color=colors)\n",
    "plt.xticks(rotation=360)\n",
    "plt.title('不同卧室数的单位面积房价')\n",
    "plt.show()\n",
    "\n",
    "df_temp2 = df[['roomnum','per_price']]\n",
    "# df_temp2.boxplot(by='roomnum',patch_artist=True)   # patch_artist上下四分位框内是否填充,True为填充\n",
    "plt.figure(figsize=(12,6))\n",
    "sns.boxplot(x=df_temp2['roomnum'],y=df_temp2['per_price'],palette=sns.cubehelix_palette(16,start=2, rot=0, dark=0, light=.95))\n",
    "plt.title('不同卧室数的单位面积房价')\n",
    "plt.show()"
   ]
  },
  {
   "cell_type": "code",
   "execution_count": 391,
   "id": "retained-conversation",
   "metadata": {},
   "outputs": [
    {
     "data": {
      "image/png": "[encoded data removed]",
      "text/plain": [
       "<Figure size 432x288 with 1 Axes>"
      ]
     },
     "metadata": {
      "needs_background": "light"
     },
     "output_type": "display_data"
    },
    {
     "data": {
      "image/png": "[encoded data removed]",
      "text/plain": [
       "<Figure size 720x432 with 1 Axes>"
      ]
     },
     "metadata": {
      "needs_background": "light"
     },
     "output_type": "display_data"
    }
   ],
   "source": [
    "# # 4. 分开各个量 → hall列\n",
    "\n",
    "# # # 不同厅数的单位面积房价\n",
    "df.per_price.groupby(df.hall).mean().plot(kind='bar',color=colors)\n",
    "plt.xticks(rotation=360)\n",
    "plt.title('不同厅数的单位面积房价')\n",
    "plt.show()\n",
    "\n",
    "\n",
    "df_temp3 = df[['hall','per_price']]\n",
    "plt.figure(figsize=(10,6))\n",
    "sns.boxplot(x=df_temp3['hall'],y=df_temp3['per_price'],palette=sns.cubehelix_palette(10,start=2, rot=0, dark=0, light=.95))\n",
    "plt.title('不同厅数的单位面积房价')\n",
    "plt.show()"
   ]
  },
  {
   "cell_type": "code",
   "execution_count": 392,
   "id": "expressed-bahamas",
   "metadata": {},
   "outputs": [
    {
     "data": {
      "image/png": "[encoded data removed]",
      "text/plain": [
       "<Figure size 432x288 with 1 Axes>"
      ]
     },
     "metadata": {
      "needs_background": "light"
     },
     "output_type": "display_data"
    },
    {
     "data": {
      "text/plain": [
       "'\\n不同卧室数的单位面积房价差异不大;\\n不同厅数的单位面积房价有一定影响;\\n不同楼层的单位面积房价差异不明显\\n'"
      ]
     },
     "execution_count": 392,
     "metadata": {},
     "output_type": "execute_result"
    }
   ],
   "source": [
    "# # 5. 分开各个量 → C_floor列\n",
    "\n",
    "df_temp4 = df[['C_floor','per_price']]\n",
    "sns.boxplot(x=df['C_floor'],y=df_temp4['per_price'],palette=sns.cubehelix_palette(6,start=2, rot=0, dark=0, light=.95))\n",
    "plt.title('不同楼层的单位面积房价')\n",
    "plt.show()\n",
    "'''\n",
    "不同卧室数的单位面积房价差异不大;\n",
    "不同厅数的单位面积房价有一定影响;\n",
    "不同楼层的单位面积房价差异不明显\n",
    "'''"
   ]
  },
  {
   "cell_type": "code",
   "execution_count": 393,
   "id": "historic-possession",
   "metadata": {},
   "outputs": [
    {
     "data": {
      "image/png": "[encoded data removed]",
      "text/plain": [
       "<Figure size 432x288 with 1 Axes>"
      ]
     },
     "metadata": {
      "needs_background": "light"
     },
     "output_type": "display_data"
    }
   ],
   "source": [
    "# 6.分开各个量 → subway\n",
    "\n",
    "# # # 是否临近地铁对单位面积房价的影响\n",
    "df_temp5 = df[['subway','per_price']]\n",
    "sns.boxplot(x=df_temp5['subway'],y=df_temp5['per_price'],palette=sns.cubehelix_palette(4,start=2, rot=0, dark=0, light=.95))\n",
    "plt.title('是否临近地铁对单位面积房价的影响')\n",
    "plt.show()"
   ]
  },
  {
   "cell_type": "code",
   "execution_count": 394,
   "id": "careful-passenger",
   "metadata": {},
   "outputs": [
    {
     "data": {
      "image/png": "[encoded data removed]",
      "text/plain": [
       "<Figure size 432x288 with 1 Axes>"
      ]
     },
     "metadata": {
      "needs_background": "light"
     },
     "output_type": "display_data"
    }
   ],
   "source": [
    "# # 7.分开各个量 → school\n",
    "\n",
    "# # # 是否是学区房对房价的影响\n",
    "\n",
    "df_temp6 = df[['school','per_price']]\n",
    "sns.boxplot(x=df_temp6['school'],y=df_temp6['per_price'],palette=sns.cubehelix_palette(4,start=2,rot=0,dark=0,light=.95))\n",
    "plt.title('是否是学区房对房价的影响')\n",
    "plt.show()"
   ]
  },
  {
   "cell_type": "code",
   "execution_count": 395,
   "id": "conventional-ambassador",
   "metadata": {},
   "outputs": [],
   "source": [
    "def stack2dim(raw, i, j, rotation=0, location='upper left'):\n",
    "    '''\n",
    "    此函数是为了画两个维度标准化的堆积柱状图\n",
    "    要求是目标变量j是二分类的\n",
    "    raw为pandas的DataFrame数据框\n",
    "    i、j为两个分类变量的变量名称，要求带引号，比如\"school\"\n",
    "    rotation：水平标签旋转角度，默认水平方向，如标签过长，可设置一定角度，比如设置rotation = 40\n",
    "    location：分类标签的位置，如果被主体图形挡住，可更改为'upper left'\n",
    "\n",
    "    '''\n",
    "    import math\n",
    "    import pandas as pd\n",
    "    import numpy as np\n",
    "    import matplotlib.pyplot as plt\n",
    "    data_raw = pd.crosstab(raw[i], raw[j])\n",
    "    data = data_raw.div(data_raw.sum(1), axis=0)  # 交叉表转换成比率，为得到标准化堆积柱状图\n",
    "\n",
    "    # 计算x坐标，及bar宽度\n",
    "    createVar = locals()\n",
    "    x = [0]  # 每个bar的中心x轴坐标\n",
    "    width = []  # bar的宽度\n",
    "    k = 0\n",
    "    for n in range(len(data)):\n",
    "        # 根据频数计算每一列bar的宽度\n",
    "        createVar['width' + str(n)] = data_raw.sum(axis=1)[n] / sum(data_raw.sum(axis=1))\n",
    "        width.append(createVar['width' + str(n)])\n",
    "        if n == 0:\n",
    "            continue\n",
    "        else:\n",
    "            k += createVar['width' + str(n - 1)] / 2 + createVar['width' + str(n)] / 2 + 0.05\n",
    "            x.append(k)\n",
    "\n",
    "            # 以下是通过频率交叉表矩阵生成一列对应堆积图每一块位置数据的数组，再把数组转化为矩阵\n",
    "    y_mat = []\n",
    "    n = 0\n",
    "    for p in range(data.shape[0]):\n",
    "        for q in range(data.shape[1]):\n",
    "            n += 1\n",
    "            y_mat.append(data.iloc[p, q])\n",
    "            if n == data.shape[0] * 2:\n",
    "                break\n",
    "            elif n % 2 == 1:\n",
    "                y_mat.extend([0] * (len(data) - 1))\n",
    "            elif n % 2 == 0:\n",
    "                y_mat.extend([0] * len(data))\n",
    "\n",
    "    y_mat = np.array(y_mat).reshape(len(data) * 2, len(data))\n",
    "    y_mat = pd.DataFrame(y_mat)  # bar图中的y变量矩阵，每一行是一个y变量\n",
    "\n",
    "    # 通过x，y_mat中的每一行y，依次绘制每一块堆积图中的每一块图\n",
    "    createVar = locals()\n",
    "    for row in range(len(y_mat)):\n",
    "        createVar['a' + str(row)] = y_mat.iloc[row, :]\n",
    "        if row % 2 == 0:\n",
    "            if math.floor(row / 2) == 0:\n",
    "                label = data.columns.name + ': ' + str(data.columns[row])\n",
    "                plt.bar(x, createVar['a' + str(row)],\n",
    "                        width=width[math.floor(row / 2)], label='0', color='#5F9EA0')\n",
    "            else:\n",
    "                plt.bar(x, createVar['a' + str(row)],\n",
    "                        width=width[math.floor(row / 2)], color='#5F9EA0')\n",
    "        elif row % 2 == 1:\n",
    "            if math.floor(row / 2) == 0:\n",
    "                label = data.columns.name + ': ' + str(data.columns[row])\n",
    "                plt.bar(x, createVar['a' + str(row)], bottom=createVar['a' + str(row - 1)],\n",
    "                        width=width[math.floor(row / 2)], label='1', color='#8FBC8F')\n",
    "            else:\n",
    "                plt.bar(x, createVar['a' + str(row)], bottom=createVar['a' + str(row - 1)],\n",
    "                        width=width[math.floor(row / 2)], color='#8FBC8F')\n",
    "\n",
    "    plt.title(j + ' vs ' + i)\n",
    "    group_labels = [data.index.name + ': ' + str(name) for name in data.index]\n",
    "    plt.xticks(x, group_labels, rotation=rotation)\n",
    "    plt.ylabel(j)\n",
    "    plt.legend(shadow=True, loc=location)\n",
    "    plt.show()"
   ]
  },
  {
   "cell_type": "code",
   "execution_count": 396,
   "id": "disturbed-meaning",
   "metadata": {
    "scrolled": false
   },
   "outputs": [
    {
     "name": "stdout",
     "output_type": "stream",
     "text": [
      "school     0     1\n",
      "subway            \n",
      "0       4877  4303\n",
      "1       2761  6573\n",
      "school         0         1\n",
      "subway                    \n",
      "0       0.531264  0.468736\n",
      "1       0.295800  0.704200\n",
      "====================================================================================================\n"
     ]
    }
   ],
   "source": [
    "# # # subway+school 地铁 + 学区\n",
    "print(pd.crosstab(df.subway,df.school))\n",
    "sub_shc = pd.crosstab(df.subway,df.school)\n",
    "sub_shc = sub_shc.div(sub_shc.sum(1),axis=0)\n",
    "print(sub_shc)\n",
    "print('='*100)"
   ]
  },
  {
   "cell_type": "code",
   "execution_count": 397,
   "id": "grateful-burst",
   "metadata": {},
   "outputs": [
    {
     "data": {
      "image/png": "[encoded data removed]",
      "text/plain": [
       "<Figure size 432x288 with 1 Axes>"
      ]
     },
     "metadata": {
      "needs_background": "light"
     },
     "output_type": "display_data"
    },
    {
     "data": {
      "text/plain": [
       "'\\n是否临近地铁和是否时学区房对房价有一定影响；\\n地铁房中的学区房比重 比 非地铁房中的学区比重更大\\n'"
      ]
     },
     "execution_count": 397,
     "metadata": {},
     "output_type": "execute_result"
    }
   ],
   "source": [
    "# # # subway+school 的 两维度分组堆积图\n",
    "from stack2dim import *\n",
    "stack2dim(df,i='subway',j='school')\n",
    "\n",
    "'''\n",
    "是否临近地铁和是否时学区房对房价有一定影响；\n",
    "地铁房中的学区房比重 比 非地铁房中的学区比重更大\n",
    "'''"
   ]
  },
  {
   "cell_type": "code",
   "execution_count": 398,
   "id": "comfortable-intake",
   "metadata": {},
   "outputs": [
    {
     "data": {
      "image/png": "[encoded data removed]",
      "text/plain": [
       "<Figure size 432x288 with 1 Axes>"
      ]
     },
     "metadata": {
      "needs_background": "light"
     },
     "output_type": "display_data"
    }
   ],
   "source": [
    "# # 8.面积 AREA x,y均为连续变量，画散点图\n",
    "\n",
    "df_temp7 = df[['AREA','per_price']]\n",
    "plt.scatter(df_temp7.AREA,df_temp7.per_price,marker='.',color='#00686b')\n",
    "plt.title('面积AREA 和 单位面积房价per_price 的 散点图')\n",
    "plt.ylabel(\"单位面积房价\")\n",
    "plt.xlabel(\"面积（平方米）\")\n",
    "plt.show()"
   ]
  },
  {
   "cell_type": "code",
   "execution_count": 399,
   "id": "seeing-superintendent",
   "metadata": {},
   "outputs": [
    {
     "name": "stdout",
     "output_type": "stream",
     "text": [
      "[[1.         0.31332208]\n",
      " [0.31332208 1.        ]]\n",
      "--------------------------------------------------\n"
     ]
    },
    {
     "data": {
      "text/plain": [
       "'\\n1. 从散点图可看出，点由左向右逐渐稀疏，考虑对y取对数后再作散点图\\n'"
      ]
     },
     "execution_count": 399,
     "metadata": {},
     "output_type": "execute_result"
    }
   ],
   "source": [
    "# # # 求AREA和per_price的相关关系矩阵\n",
    "import numpy as np\n",
    "\n",
    "df_temp_A = np.array(df_temp7['per_price'])\n",
    "df_temp_B = np.array(df_temp7['AREA'])\n",
    "df_temp_AB = np.array([df_temp_A,df_temp_B])\n",
    "print(np.corrcoef(df_temp_AB))\n",
    "print('-'*50)\n",
    "'''\n",
    "1. 从散点图可看出，点由左向右逐渐稀疏，考虑对y取对数后再作散点图\n",
    "'''"
   ]
  },
  {
   "cell_type": "code",
   "execution_count": 400,
   "id": "accomplished-integrity",
   "metadata": {},
   "outputs": [
    {
     "data": {
      "image/png": "[encoded data removed]",
      "text/plain": [
       "<Figure size 432x288 with 1 Axes>"
      ]
     },
     "metadata": {
      "needs_background": "light"
     },
     "output_type": "display_data"
    }
   ],
   "source": [
    "# # # 面积AREA 和 单位面积房价per_price(取对数后) 的 散点图\n",
    "A = df_temp7.copy()\n",
    "# A.loc[:,'per_price_ln'] = A.loc[:,'per_price'].apply(lambda x:np.log(x))\n",
    "A['per_price_ln'] = A['per_price'].apply(lambda x:np.log(x))\n",
    "plt.scatter(A.AREA,A.per_price_ln,marker='.',color='#00686b')\n",
    "plt.title('面积AREA 和 单位面积房价per_price(取对数后) 的 散点图')\n",
    "plt.ylabel(\"单位面积房价（取对数后）\")\n",
    "plt.xlabel(\"面积（平方米）\")\n",
    "plt.show()"
   ]
  },
  {
   "cell_type": "code",
   "execution_count": 401,
   "id": "heated-dream",
   "metadata": {},
   "outputs": [
    {
     "name": "stdout",
     "output_type": "stream",
     "text": [
      "[[1.         0.26030901]\n",
      " [0.26030901 1.        ]]\n",
      "--------------------------------------------------\n"
     ]
    },
    {
     "data": {
      "text/plain": [
       "'\\n依然呈现明显的右边集中特点，考虑对x变量也取对数\\n'"
      ]
     },
     "execution_count": 401,
     "metadata": {},
     "output_type": "execute_result"
    }
   ],
   "source": [
    "df_temp_C = np.array(A['per_price_ln'])\n",
    "df_temp_D = np.array(A['AREA'])\n",
    "df_temp_CD = np.array([df_temp_C,df_temp_D])\n",
    "print(np.corrcoef(df_temp_CD))\n",
    "print('-'*50)\n",
    "'''\n",
    "依然呈现明显的右边集中特点，考虑对x变量也取对数\n",
    "'''"
   ]
  },
  {
   "cell_type": "code",
   "execution_count": 402,
   "id": "national-poison",
   "metadata": {},
   "outputs": [
    {
     "data": {
      "image/png": "[encoded data removed]",
      "text/plain": [
       "<Figure size 432x288 with 1 Axes>"
      ]
     },
     "metadata": {
      "needs_background": "light"
     },
     "output_type": "display_data"
    }
   ],
   "source": [
    "# # # 面积AREA(取对数后) 和 单位面积房价per_price(取对数后) 的 散点图\n",
    "B = df_temp7.copy()\n",
    "B['per_price_ln'] = np.log(B['per_price'])\n",
    "B['AREA_ln'] = np.log(B['AREA'])\n",
    "plt.scatter(B.per_price_ln,B.AREA_ln,marker='.',color='#00686b')\n",
    "plt.title('面积AREA(取对数后) 和 单位面积房价per_price(取对数后) 的 散点图')\n",
    "plt.ylabel(\"单位面积房价（取对数后）\")\n",
    "plt.xlabel(\"面积（平方米）（取对数后）\")\n",
    "plt.show()"
   ]
  },
  {
   "cell_type": "code",
   "execution_count": 403,
   "id": "bronze-federation",
   "metadata": {},
   "outputs": [
    {
     "name": "stdout",
     "output_type": "stream",
     "text": [
      "[[1.         0.18715179]\n",
      " [0.18715179 1.        ]]\n",
      "--------------------------------------------------\n"
     ]
    },
    {
     "data": {
      "text/plain": [
       "'\\n 两者都取对数后，分布正态了，故之后建模时，应该二者都取对数\\n '"
      ]
     },
     "execution_count": 403,
     "metadata": {},
     "output_type": "execute_result"
    }
   ],
   "source": [
    "# # # AREA_ln 和 per_price_ln 的相关系数矩阵\n",
    "df_temp_E = np.array(B['per_price_ln'])\n",
    "df_temp_F = np.array(B['AREA_ln'])\n",
    "df_temp_EF = np.array([df_temp_E,df_temp_F])\n",
    "print(np.corrcoef(df_temp_EF))\n",
    "print('-'*50)\n",
    "'''\n",
    " 两者都取对数后，分布正态了，故之后建模时，应该二者都取对数\n",
    " '''"
   ]
  },
  {
   "cell_type": "code",
   "execution_count": 404,
   "id": "handed-berlin",
   "metadata": {},
   "outputs": [
    {
     "data": {
      "text/html": [
       "<div>\n",
       "<style scoped>\n",
       "    .dataframe tbody tr th:only-of-type {\n",
       "        vertical-align: middle;\n",
       "    }\n",
       "\n",
       "    .dataframe tbody tr th {\n",
       "        vertical-align: top;\n",
       "    }\n",
       "\n",
       "    .dataframe thead th {\n",
       "        text-align: right;\n",
       "    }\n",
       "</style>\n",
       "<table border=\"1\" class=\"dataframe\">\n",
       "  <thead>\n",
       "    <tr style=\"text-align: right;\">\n",
       "      <th></th>\n",
       "      <th>district</th>\n",
       "      <th>roomnum</th>\n",
       "      <th>hall</th>\n",
       "      <th>AREA</th>\n",
       "      <th>C_floor</th>\n",
       "      <th>school</th>\n",
       "      <th>subway</th>\n",
       "      <th>per_price</th>\n",
       "    </tr>\n",
       "  </thead>\n",
       "  <tbody>\n",
       "    <tr>\n",
       "      <th>0</th>\n",
       "      <td>宝安</td>\n",
       "      <td>3</td>\n",
       "      <td>2</td>\n",
       "      <td>89.30</td>\n",
       "      <td>middle</td>\n",
       "      <td>0</td>\n",
       "      <td>0</td>\n",
       "      <td>7.0773</td>\n",
       "    </tr>\n",
       "    <tr>\n",
       "      <th>1</th>\n",
       "      <td>宝安</td>\n",
       "      <td>4</td>\n",
       "      <td>2</td>\n",
       "      <td>127.00</td>\n",
       "      <td>high</td>\n",
       "      <td>0</td>\n",
       "      <td>0</td>\n",
       "      <td>6.9291</td>\n",
       "    </tr>\n",
       "    <tr>\n",
       "      <th>2</th>\n",
       "      <td>宝安</td>\n",
       "      <td>1</td>\n",
       "      <td>1</td>\n",
       "      <td>28.00</td>\n",
       "      <td>low</td>\n",
       "      <td>0</td>\n",
       "      <td>0</td>\n",
       "      <td>3.9286</td>\n",
       "    </tr>\n",
       "    <tr>\n",
       "      <th>3</th>\n",
       "      <td>宝安</td>\n",
       "      <td>1</td>\n",
       "      <td>1</td>\n",
       "      <td>28.00</td>\n",
       "      <td>middle</td>\n",
       "      <td>0</td>\n",
       "      <td>0</td>\n",
       "      <td>3.3568</td>\n",
       "    </tr>\n",
       "    <tr>\n",
       "      <th>4</th>\n",
       "      <td>宝安</td>\n",
       "      <td>2</td>\n",
       "      <td>2</td>\n",
       "      <td>78.00</td>\n",
       "      <td>middle</td>\n",
       "      <td>1</td>\n",
       "      <td>1</td>\n",
       "      <td>5.0769</td>\n",
       "    </tr>\n",
       "    <tr>\n",
       "      <th>...</th>\n",
       "      <td>...</td>\n",
       "      <td>...</td>\n",
       "      <td>...</td>\n",
       "      <td>...</td>\n",
       "      <td>...</td>\n",
       "      <td>...</td>\n",
       "      <td>...</td>\n",
       "      <td>...</td>\n",
       "    </tr>\n",
       "    <tr>\n",
       "      <th>18509</th>\n",
       "      <td>盐田</td>\n",
       "      <td>1</td>\n",
       "      <td>0</td>\n",
       "      <td>29.90</td>\n",
       "      <td>middle</td>\n",
       "      <td>1</td>\n",
       "      <td>0</td>\n",
       "      <td>3.8796</td>\n",
       "    </tr>\n",
       "    <tr>\n",
       "      <th>18510</th>\n",
       "      <td>盐田</td>\n",
       "      <td>1</td>\n",
       "      <td>0</td>\n",
       "      <td>29.89</td>\n",
       "      <td>middle</td>\n",
       "      <td>1</td>\n",
       "      <td>0</td>\n",
       "      <td>4.0147</td>\n",
       "    </tr>\n",
       "    <tr>\n",
       "      <th>18511</th>\n",
       "      <td>盐田</td>\n",
       "      <td>1</td>\n",
       "      <td>0</td>\n",
       "      <td>28.86</td>\n",
       "      <td>high</td>\n",
       "      <td>0</td>\n",
       "      <td>0</td>\n",
       "      <td>5.0243</td>\n",
       "    </tr>\n",
       "    <tr>\n",
       "      <th>18512</th>\n",
       "      <td>盐田</td>\n",
       "      <td>1</td>\n",
       "      <td>1</td>\n",
       "      <td>26.29</td>\n",
       "      <td>high</td>\n",
       "      <td>1</td>\n",
       "      <td>0</td>\n",
       "      <td>4.9068</td>\n",
       "    </tr>\n",
       "    <tr>\n",
       "      <th>18513</th>\n",
       "      <td>盐田</td>\n",
       "      <td>1</td>\n",
       "      <td>0</td>\n",
       "      <td>18.86</td>\n",
       "      <td>low</td>\n",
       "      <td>0</td>\n",
       "      <td>0</td>\n",
       "      <td>4.2948</td>\n",
       "    </tr>\n",
       "  </tbody>\n",
       "</table>\n",
       "<p>18514 rows × 8 columns</p>\n",
       "</div>"
      ],
      "text/plain": [
       "      district  roomnum  hall    AREA C_floor  school  subway  per_price\n",
       "0           宝安        3     2   89.30  middle       0       0     7.0773\n",
       "1           宝安        4     2  127.00    high       0       0     6.9291\n",
       "2           宝安        1     1   28.00     low       0       0     3.9286\n",
       "3           宝安        1     1   28.00  middle       0       0     3.3568\n",
       "4           宝安        2     2   78.00  middle       1       1     5.0769\n",
       "...        ...      ...   ...     ...     ...     ...     ...        ...\n",
       "18509       盐田        1     0   29.90  middle       1       0     3.8796\n",
       "18510       盐田        1     0   29.89  middle       1       0     4.0147\n",
       "18511       盐田        1     0   28.86    high       0       0     5.0243\n",
       "18512       盐田        1     1   26.29    high       1       0     4.9068\n",
       "18513       盐田        1     0   18.86     low       0       0     4.2948\n",
       "\n",
       "[18514 rows x 8 columns]"
      ]
     },
     "execution_count": 404,
     "metadata": {},
     "output_type": "execute_result"
    }
   ],
   "source": [
    "df"
   ]
  },
  {
   "cell_type": "code",
   "execution_count": 405,
   "id": "downtown-banking",
   "metadata": {},
   "outputs": [],
   "source": [
    "#python实现\n",
    "from sklearn.preprocessing import OneHotEncoder\n",
    "class_mapping = {'南山':0,'宝安':1,'大鹏新区':2,'光明':3,'龙岗':4,'罗湖':5,'龙华':6,'坪山':7,'盐田':8,'福田':9}\n",
    "\n",
    "df['district'] = df['district'].map(class_mapping)"
   ]
  },
  {
   "cell_type": "code",
   "execution_count": 406,
   "id": "active-material",
   "metadata": {},
   "outputs": [],
   "source": [
    "c_mapping = {'low':0,'middle':1,'high':2}\n",
    "df['C_floor'] = df['C_floor'].map(c_mapping)"
   ]
  },
  {
   "cell_type": "code",
   "execution_count": 407,
   "id": "opponent-attribute",
   "metadata": {},
   "outputs": [
    {
     "data": {
      "text/html": [
       "<div>\n",
       "<style scoped>\n",
       "    .dataframe tbody tr th:only-of-type {\n",
       "        vertical-align: middle;\n",
       "    }\n",
       "\n",
       "    .dataframe tbody tr th {\n",
       "        vertical-align: top;\n",
       "    }\n",
       "\n",
       "    .dataframe thead th {\n",
       "        text-align: right;\n",
       "    }\n",
       "</style>\n",
       "<table border=\"1\" class=\"dataframe\">\n",
       "  <thead>\n",
       "    <tr style=\"text-align: right;\">\n",
       "      <th></th>\n",
       "      <th>district</th>\n",
       "      <th>roomnum</th>\n",
       "      <th>hall</th>\n",
       "      <th>AREA</th>\n",
       "      <th>C_floor</th>\n",
       "      <th>school</th>\n",
       "      <th>subway</th>\n",
       "      <th>per_price</th>\n",
       "    </tr>\n",
       "  </thead>\n",
       "  <tbody>\n",
       "    <tr>\n",
       "      <th>0</th>\n",
       "      <td>1</td>\n",
       "      <td>3</td>\n",
       "      <td>2</td>\n",
       "      <td>89.30</td>\n",
       "      <td>1</td>\n",
       "      <td>0</td>\n",
       "      <td>0</td>\n",
       "      <td>7.0773</td>\n",
       "    </tr>\n",
       "    <tr>\n",
       "      <th>1</th>\n",
       "      <td>1</td>\n",
       "      <td>4</td>\n",
       "      <td>2</td>\n",
       "      <td>127.00</td>\n",
       "      <td>2</td>\n",
       "      <td>0</td>\n",
       "      <td>0</td>\n",
       "      <td>6.9291</td>\n",
       "    </tr>\n",
       "    <tr>\n",
       "      <th>2</th>\n",
       "      <td>1</td>\n",
       "      <td>1</td>\n",
       "      <td>1</td>\n",
       "      <td>28.00</td>\n",
       "      <td>0</td>\n",
       "      <td>0</td>\n",
       "      <td>0</td>\n",
       "      <td>3.9286</td>\n",
       "    </tr>\n",
       "    <tr>\n",
       "      <th>3</th>\n",
       "      <td>1</td>\n",
       "      <td>1</td>\n",
       "      <td>1</td>\n",
       "      <td>28.00</td>\n",
       "      <td>1</td>\n",
       "      <td>0</td>\n",
       "      <td>0</td>\n",
       "      <td>3.3568</td>\n",
       "    </tr>\n",
       "    <tr>\n",
       "      <th>4</th>\n",
       "      <td>1</td>\n",
       "      <td>2</td>\n",
       "      <td>2</td>\n",
       "      <td>78.00</td>\n",
       "      <td>1</td>\n",
       "      <td>1</td>\n",
       "      <td>1</td>\n",
       "      <td>5.0769</td>\n",
       "    </tr>\n",
       "    <tr>\n",
       "      <th>...</th>\n",
       "      <td>...</td>\n",
       "      <td>...</td>\n",
       "      <td>...</td>\n",
       "      <td>...</td>\n",
       "      <td>...</td>\n",
       "      <td>...</td>\n",
       "      <td>...</td>\n",
       "      <td>...</td>\n",
       "    </tr>\n",
       "    <tr>\n",
       "      <th>18509</th>\n",
       "      <td>8</td>\n",
       "      <td>1</td>\n",
       "      <td>0</td>\n",
       "      <td>29.90</td>\n",
       "      <td>1</td>\n",
       "      <td>1</td>\n",
       "      <td>0</td>\n",
       "      <td>3.8796</td>\n",
       "    </tr>\n",
       "    <tr>\n",
       "      <th>18510</th>\n",
       "      <td>8</td>\n",
       "      <td>1</td>\n",
       "      <td>0</td>\n",
       "      <td>29.89</td>\n",
       "      <td>1</td>\n",
       "      <td>1</td>\n",
       "      <td>0</td>\n",
       "      <td>4.0147</td>\n",
       "    </tr>\n",
       "    <tr>\n",
       "      <th>18511</th>\n",
       "      <td>8</td>\n",
       "      <td>1</td>\n",
       "      <td>0</td>\n",
       "      <td>28.86</td>\n",
       "      <td>2</td>\n",
       "      <td>0</td>\n",
       "      <td>0</td>\n",
       "      <td>5.0243</td>\n",
       "    </tr>\n",
       "    <tr>\n",
       "      <th>18512</th>\n",
       "      <td>8</td>\n",
       "      <td>1</td>\n",
       "      <td>1</td>\n",
       "      <td>26.29</td>\n",
       "      <td>2</td>\n",
       "      <td>1</td>\n",
       "      <td>0</td>\n",
       "      <td>4.9068</td>\n",
       "    </tr>\n",
       "    <tr>\n",
       "      <th>18513</th>\n",
       "      <td>8</td>\n",
       "      <td>1</td>\n",
       "      <td>0</td>\n",
       "      <td>18.86</td>\n",
       "      <td>0</td>\n",
       "      <td>0</td>\n",
       "      <td>0</td>\n",
       "      <td>4.2948</td>\n",
       "    </tr>\n",
       "  </tbody>\n",
       "</table>\n",
       "<p>18514 rows × 8 columns</p>\n",
       "</div>"
      ],
      "text/plain": [
       "       district  roomnum  hall    AREA  C_floor  school  subway  per_price\n",
       "0             1        3     2   89.30        1       0       0     7.0773\n",
       "1             1        4     2  127.00        2       0       0     6.9291\n",
       "2             1        1     1   28.00        0       0       0     3.9286\n",
       "3             1        1     1   28.00        1       0       0     3.3568\n",
       "4             1        2     2   78.00        1       1       1     5.0769\n",
       "...         ...      ...   ...     ...      ...     ...     ...        ...\n",
       "18509         8        1     0   29.90        1       1       0     3.8796\n",
       "18510         8        1     0   29.89        1       1       0     4.0147\n",
       "18511         8        1     0   28.86        2       0       0     5.0243\n",
       "18512         8        1     1   26.29        2       1       0     4.9068\n",
       "18513         8        1     0   18.86        0       0       0     4.2948\n",
       "\n",
       "[18514 rows x 8 columns]"
      ]
     },
     "execution_count": 407,
     "metadata": {},
     "output_type": "execute_result"
    }
   ],
   "source": [
    "df"
   ]
  },
  {
   "cell_type": "code",
   "execution_count": 408,
   "id": "ordinary-sydney",
   "metadata": {},
   "outputs": [
    {
     "name": "stdout",
     "output_type": "stream",
     "text": [
      "(18514, 7)\n"
     ]
    }
   ],
   "source": [
    "# 获取特征\n",
    "x = df[['district','C_floor','roomnum','hall','AREA','school','subway']]\n",
    "print(x.shape)"
   ]
  },
  {
   "cell_type": "code",
   "execution_count": 409,
   "id": "casual-checkout",
   "metadata": {},
   "outputs": [
    {
     "name": "stdout",
     "output_type": "stream",
     "text": [
      "(18514,)\n"
     ]
    }
   ],
   "source": [
    "y = df['per_price']\n",
    "print(y.shape)"
   ]
  },
  {
   "cell_type": "code",
   "execution_count": 435,
   "id": "congressional-spare",
   "metadata": {
    "scrolled": false
   },
   "outputs": [],
   "source": [
    "#先将数据集分成训练集和测试集\n",
    "from sklearn.model_selection import train_test_split\n",
    "X_train,X_test,y_train,y_test = train_test_split(x, y, test_size=0.2, random_state=20)"
   ]
  },
  {
   "cell_type": "code",
   "execution_count": 436,
   "id": "shared-crack",
   "metadata": {},
   "outputs": [
    {
     "data": {
      "text/plain": [
       "0.9441332324639324"
      ]
     },
     "execution_count": 436,
     "metadata": {},
     "output_type": "execute_result"
    }
   ],
   "source": [
    "# 建立模型 \n",
    "from sklearn import metrics\n",
    "from pickle import dump\n",
    "#交叉验证\n",
    "from sklearn.model_selection import cross_val_score\n",
    "#随机森林 \n",
    "from sklearn.ensemble import RandomForestRegressor\n",
    "model= RandomForestRegressor(n_estimators=30,max_features=None)\n",
    "# df_rfc = cross_val_score(model,x,y,,cv=10) #交叉验证\n",
    "model.fit(X_train, y_train)\n",
    "model.score(X_train,y_train)"
   ]
  },
  {
   "cell_type": "code",
   "execution_count": 438,
   "id": "appreciated-artist",
   "metadata": {},
   "outputs": [],
   "source": [
    "# 保存模型\n",
    "model_file='finalized_model(0.9428).pkl'\n",
    "with open(model_file,'wb') as model_f:\n",
    "    dump(model,model_f)"
   ]
  },
  {
   "cell_type": "code",
   "execution_count": 439,
   "id": "current-specialist",
   "metadata": {},
   "outputs": [
    {
     "name": "stdout",
     "output_type": "stream",
     "text": [
      "0.7410807855312107\n"
     ]
    }
   ],
   "source": [
    "from pickle import load\n",
    "# 加载模型测试测试集准确率\n",
    "with open(model_file,'rb') as model_f:\n",
    "    loaded_model=load(model_f)\n",
    "    result=loaded_model.score(X_test,y_test)\n",
    "    print(result)"
   ]
  },
  {
   "cell_type": "code",
   "execution_count": null,
   "id": "common-tribute",
   "metadata": {},
   "outputs": [],
   "source": []
  }
 ],
 "metadata": {
  "kernelspec": {
   "display_name": "Python 3",
   "language": "python",
   "name": "python3"
  },
  "language_info": {
   "codemirror_mode": {
    "name": "ipython",
    "version": 3
   },
   "file_extension": ".py",
   "mimetype": "text/x-python",
   "name": "python",
   "nbconvert_exporter": "python",
   "pygments_lexer": "ipython3",
   "version": "3.7.2"
  }
 },
 "nbformat": 4,
 "nbformat_minor": 5
}